{
  "nbformat": 4,
  "nbformat_minor": 0,
  "metadata": {
    "colab": {
      "name": "Copy of SQL Programming - Getting Started with Databases",
      "provenance": [],
      "collapsed_sections": [
        "_D8JbTh02GDA",
        "D6BU_C0d3dMo"
      ],
      "toc_visible": true,
      "include_colab_link": true
    },
    "kernelspec": {
      "name": "python3",
      "display_name": "Python 3"
    },
    "accelerator": "GPU"
  },
  "cells": [
    {
      "cell_type": "markdown",
      "metadata": {
        "id": "view-in-github",
        "colab_type": "text"
      },
      "source": [
        "<a href=\"https://colab.research.google.com/github/venkatareddykonasani/Assorted/blob/main/Copy_of_SQL_Programming_Getting_Started_with_Databases.ipynb\" target=\"_parent\"><img src=\"https://colab.research.google.com/assets/colab-badge.svg\" alt=\"Open In Colab\"/></a>"
      ]
    },
    {
      "cell_type": "markdown",
      "metadata": {
        "id": "tRHyN7N81xCS"
      },
      "source": [
        "<font color=\"green\">*To start working on this notebook, or any other notebook that we will use in the Moringa Data Science Course, we will need to save our own copy of it. We can do this by clicking File > Save a Copy in Drive. We will then be able to make edits to our own copy of this notebook.*</font>\n",
        "\n"
      ]
    },
    {
      "cell_type": "markdown",
      "metadata": {
        "id": "_brgSPnC2ClB"
      },
      "source": [
        "# SQL Programming - Getting Started with Databases"
      ]
    },
    {
      "cell_type": "markdown",
      "metadata": {
        "id": "_D8JbTh02GDA"
      },
      "source": [
        "## 1.1 Overview"
      ]
    },
    {
      "cell_type": "markdown",
      "metadata": {
        "id": "ueOY-njw3bzC"
      },
      "source": [
        "Structured Query Language (SQL) is the language that is used to store, manipulate and retrieve data from many databases. It is the standard language for many relational database management systems which are a type of databases used by organisations across the world. These type of relational database management systems are used to store data in tables and examples of such include SQLite, MySQL, Postgres, Oracle etc.\n",
        "\n",
        "During the Moringa DataScience Prep, we will learn about SQL since as Data Scientists, we may be required to interact with this data through the use of SQL.\n",
        "\n",
        "In this notebook, we will use SQL to learn how tables in databases are created. More specifically, we will learn how the structure of tables is defined which is critical in determining the quality of data. The better the structure, the easier it becomes to clean data."
      ]
    },
    {
      "cell_type": "markdown",
      "metadata": {
        "id": "D6BU_C0d3dMo"
      },
      "source": [
        "## 1.2 Connecting to our Database"
      ]
    },
    {
      "cell_type": "markdown",
      "metadata": {
        "id": "7JK1sBqVKNUm"
      },
      "source": []
    },
    {
      "cell_type": "code",
      "metadata": {
        "id": "PDk968tq3v43",
        "colab": {
          "base_uri": "https://localhost:8080/",
          "height": 34
        },
        "outputId": "707d8283-cc86-4ddc-ae18-fbd1ba5b559c"
      },
      "source": [
        "# We will first load an sql extension into our environment\n",
        "# This extension will allow us to work with sql on Colaboratory\n",
        "#\n",
        "%load_ext sql\n",
        "\n",
        "# We will then connect to our in memory sqlite database\n",
        "# NB: This database will cease to exist as soon as the database connection is closed.\n",
        "# We will learn more about how databases are created later in prep.\n",
        "#\n",
        "%sql sqlite://"
      ],
      "execution_count": null,
      "outputs": [
        {
          "output_type": "execute_result",
          "data": {
            "text/plain": [
              "'Connected: @None'"
            ]
          },
          "metadata": {
            "tags": []
          },
          "execution_count": 3
        }
      ]
    },
    {
      "cell_type": "markdown",
      "metadata": {
        "id": "TjMtC5JN7ZoI"
      },
      "source": [
        "## 1.3 Creating a Table"
      ]
    },
    {
      "cell_type": "code",
      "metadata": {
        "id": "ee0bJxIKPQvK",
        "outputId": "e272b74c-17e1-4deb-f77e-734691ca0e0b",
        "colab": {
          "base_uri": "https://localhost:8080/",
          "height": 91
        }
      },
      "source": [
        "# Example 1\n",
        "# We will now define and create a table Classmates in our database (if it doesn't exist).\n",
        "# This table will have fields: PersonID, LastName, FirstName, Phone and Residence as shown below.\n",
        "# We will then fetch all records from the table.\n",
        "#\n",
        "%%sql\n",
        "CREATE TABLE if not exists Classmates (\n",
        "    PersonID,\n",
        "    LastName,\n",
        "    FirstName,\n",
        "    Phone,\n",
        "    Residence\n",
        ");\n",
        "\n",
        "SELECT * From Classmates;"
      ],
      "execution_count": null,
      "outputs": [
        {
          "output_type": "stream",
          "text": [
            " * sqlite://\n",
            "Done.\n",
            "Done.\n"
          ],
          "name": "stdout"
        },
        {
          "output_type": "execute_result",
          "data": {
            "text/html": [
              "<table>\n",
              "    <tr>\n",
              "        <th>PersonID</th>\n",
              "        <th>LastName</th>\n",
              "        <th>FirstName</th>\n",
              "        <th>Phone</th>\n",
              "        <th>Residence</th>\n",
              "    </tr>\n",
              "</table>"
            ],
            "text/plain": [
              "[]"
            ]
          },
          "metadata": {
            "tags": []
          },
          "execution_count": 86
        }
      ]
    },
    {
      "cell_type": "code",
      "metadata": {
        "id": "a5-4ih-ea37Z",
        "outputId": "d31c67ee-5b89-4bf1-c016-b891679c36d0",
        "colab": {
          "base_uri": "https://localhost:8080/",
          "height": 91
        }
      },
      "source": [
        "# Example 2\n",
        "# In this example, we will create a table named Customers\n",
        "# with the columns Id, Name, Age, Address, Salary.\n",
        "# This kind of a table structure can be used by Sacco Management system.\n",
        "# Then later fetch all records in the table.\n",
        "#\n",
        "%%sql\n",
        "CREATE TABLE if not exists Customers(\n",
        "   Id,\n",
        "   Name,\n",
        "   Age,\n",
        "   Address,\n",
        "   Salary\n",
        ");\n",
        "\n",
        "SELECT * From Customers;"
      ],
      "execution_count": null,
      "outputs": [
        {
          "output_type": "stream",
          "text": [
            " * sqlite://\n",
            "Done.\n",
            "Done.\n"
          ],
          "name": "stdout"
        },
        {
          "output_type": "execute_result",
          "data": {
            "text/html": [
              "<table>\n",
              "    <tr>\n",
              "        <th>Id</th>\n",
              "        <th>Name</th>\n",
              "        <th>Age</th>\n",
              "        <th>Address</th>\n",
              "        <th>Salary</th>\n",
              "    </tr>\n",
              "</table>"
            ],
            "text/plain": [
              "[]"
            ]
          },
          "metadata": {
            "tags": []
          },
          "execution_count": 94
        }
      ]
    },
    {
      "cell_type": "code",
      "metadata": {
        "id": "0FmFgfaTbZO6"
      },
      "source": [
        "# Example 3\n",
        "# In this example, we will create a Students table for a student management system.\n",
        "# This will contain the following fields,\n",
        "# AdmissionsNo, FirstName, MiddleName, LastName, DateOfBirth and DateOfAdmission.\n",
        "# Then fetch all records from Students table.\n",
        "#\n",
        "%%sql\n",
        "CREATE TABLE if not exists Students(\n",
        "    AdmissionsNo,\n",
        "    FirstName,\n",
        "    MiddleName,\n",
        "    LastName,\n",
        "    DateOfBirth,\n",
        "    DateOfAdmission\n",
        ");\n",
        "\n",
        "SELECT * from Students;"
      ],
      "execution_count": null,
      "outputs": []
    },
    {
      "cell_type": "markdown",
      "metadata": {
        "id": "oxISLcTfPSqn"
      },
      "source": [
        "### <font color=\"green\"> 1.3 Challenges</font>"
      ]
    },
    {
      "cell_type": "code",
      "metadata": {
        "id": "SbRfVF-IPa7y",
        "outputId": "b9e87e2e-3e64-4548-ebfe-c25c0f275c3f",
        "colab": {
          "base_uri": "https://localhost:8080/",
          "height": 91
        }
      },
      "source": [
        "# Challenge 1\n",
        "# Let us create a table name PC with the following fields;\n",
        "# Code, model, speed, RAM, HD, CD and Price.\n",
        "# We also specify the appropriate data types to our table, then display it.\n",
        "%%sql\n",
        " CREATE TABLE if not exists PC(\n",
        "    Code,\n",
        "    Model,\n",
        "    Speed,\n",
        "    RAM,\n",
        "    HD,\n",
        "    CD,\n",
        "    Price\n",
        ");\n",
        "SELECT * from PC;\n"
      ],
      "execution_count": null,
      "outputs": [
        {
          "output_type": "stream",
          "text": [
            " * sqlite://\n",
            "Done.\n",
            "Done.\n"
          ],
          "name": "stdout"
        },
        {
          "output_type": "execute_result",
          "data": {
            "text/html": [
              "<table>\n",
              "    <tr>\n",
              "        <th>Code</th>\n",
              "        <th>Model</th>\n",
              "        <th>Speed</th>\n",
              "        <th>RAM</th>\n",
              "        <th>HD</th>\n",
              "        <th>CD</th>\n",
              "        <th>Price</th>\n",
              "    </tr>\n",
              "</table>"
            ],
            "text/plain": [
              "[]"
            ]
          },
          "metadata": {
            "tags": []
          },
          "execution_count": 20
        }
      ]
    },
    {
      "cell_type": "code",
      "metadata": {
        "id": "raslfjbEPa6h",
        "outputId": "e78a3279-9578-4730-9dc3-fab8c46b0f29",
        "colab": {
          "base_uri": "https://localhost:8080/",
          "height": 91
        }
      },
      "source": [
        "# Challenge 2\n",
        "# Let us create a table named Printer with\n",
        "# the following code, model, speed, type and Price.\n",
        "%%sql\n",
        "CREATE TABLE if not exists Printer(\n",
        "    Code,\n",
        "    Model,\n",
        "    Speed,\n",
        "    Type,\n",
        "    Price\n",
        ");\n",
        "SELECT * from Printer;"
      ],
      "execution_count": null,
      "outputs": [
        {
          "output_type": "stream",
          "text": [
            " * sqlite://\n",
            "Done.\n",
            "Done.\n"
          ],
          "name": "stdout"
        },
        {
          "output_type": "execute_result",
          "data": {
            "text/html": [
              "<table>\n",
              "    <tr>\n",
              "        <th>Code</th>\n",
              "        <th>Model</th>\n",
              "        <th>Speed</th>\n",
              "        <th>Type</th>\n",
              "        <th>Price</th>\n",
              "    </tr>\n",
              "</table>"
            ],
            "text/plain": [
              "[]"
            ]
          },
          "metadata": {
            "tags": []
          },
          "execution_count": 21
        }
      ]
    },
    {
      "cell_type": "code",
      "metadata": {
        "id": "mJd7ytpJPav_",
        "outputId": "15480760-0c28-4c3f-89ea-649ff7cea1c4",
        "colab": {
          "base_uri": "https://localhost:8080/",
          "height": 91
        }
      },
      "source": [
        "# Challenge 3\n",
        "# We can now write another table called Movies with the columns\n",
        "# id, title, director, year and length_minutes\n",
        "#\n",
        "%%sql\n",
        "CREATE TABLE if not exists Movies(\n",
        "    Id,\n",
        "    Title,\n",
        "    Director,\n",
        "    Year,\n",
        "    Length_minutes\n",
        ");\n",
        "SELECT *from Movies;\n",
        "\n"
      ],
      "execution_count": null,
      "outputs": [
        {
          "output_type": "stream",
          "text": [
            " * sqlite://\n",
            "Done.\n",
            "Done.\n"
          ],
          "name": "stdout"
        },
        {
          "output_type": "execute_result",
          "data": {
            "text/html": [
              "<table>\n",
              "    <tr>\n",
              "        <th>Id</th>\n",
              "        <th>Title</th>\n",
              "        <th>Director</th>\n",
              "        <th>Year</th>\n",
              "        <th>Length_minutes</th>\n",
              "    </tr>\n",
              "</table>"
            ],
            "text/plain": [
              "[]"
            ]
          },
          "metadata": {
            "tags": []
          },
          "execution_count": 27
        }
      ]
    },
    {
      "cell_type": "markdown",
      "metadata": {
        "id": "tsDIChSD7eZA"
      },
      "source": [
        "## 1.4 Specifying Column Data Types"
      ]
    },
    {
      "cell_type": "code",
      "metadata": {
        "id": "LR9UX1XnbPEJ",
        "outputId": "93bae64c-50e2-4ab4-eff9-f07e55cd9094",
        "colab": {
          "base_uri": "https://localhost:8080/",
          "height": 91
        }
      },
      "source": [
        "# Example 1\n",
        "# While defining our table, we should specify different data types.\n",
        "# These datatypes will ensure that the particular column stores only\n",
        "# records of that type i.e. The NationalID column in the defined Citizens table\n",
        "# below will only take integer values. These are values between  -2,147,483,648 to 2,147,483,647.\n",
        "# If one would require to store much smaller or bigger values than the range above then\n",
        "# they can use a different datatype i.e. tinyint or bigint.\n",
        "# The datatype varchar will hold letters and numbers upto the specified limit\n",
        "# in the brackets.\n",
        "#\n",
        "%%sql\n",
        "CREATE TABLE IF NOT EXISTS Citizens (\n",
        "    NationalID int,\n",
        "    FirstName varchar(255),\n",
        "    MiddleName varchar(255),\n",
        "    PostalAddress varchar(255),\n",
        "    Residence varchar(255));\n",
        "SELECT * from Citizens;"
      ],
      "execution_count": null,
      "outputs": [
        {
          "output_type": "stream",
          "text": [
            " * sqlite://\n",
            "Done.\n",
            "Done.\n"
          ],
          "name": "stdout"
        },
        {
          "output_type": "execute_result",
          "data": {
            "text/html": [
              "<table>\n",
              "    <tr>\n",
              "        <th>NationalID</th>\n",
              "        <th>FirstName</th>\n",
              "        <th>MiddleName</th>\n",
              "        <th>PostalAddress</th>\n",
              "        <th>Residence</th>\n",
              "    </tr>\n",
              "</table>"
            ],
            "text/plain": [
              "[]"
            ]
          },
          "metadata": {
            "tags": []
          },
          "execution_count": 30
        }
      ]
    },
    {
      "cell_type": "code",
      "metadata": {
        "id": "xD0OhRTmdFW5",
        "outputId": "ceff9648-f676-44b4-a45d-0b6116ce7c4b",
        "colab": {
          "base_uri": "https://localhost:8080/",
          "height": 91
        }
      },
      "source": [
        "# Example 2\n",
        "# Specifying column data types will ensure that\n",
        "# the data that is stored within that table of the correct type.\n",
        "# The data type date would ensure that the data stored is in the format YYYY-MM-DD.\n",
        "# The data type boolean supports the storage of two values: TRUE or FALSE.\n",
        "# No other data of a different nature would be accepted to the table\n",
        "# than the one it was specified to have.\n",
        "#\n",
        "%%sql\n",
        "CREATE TABLE IF NOT EXISTS artists(\n",
        "    Artist_Id int,\n",
        "    Artist_Name varchar(60),\n",
        "    Artist_DOB date,\n",
        "    Posters_In_Stock boolean);\n",
        "\n",
        "SELECT * from artists;"
      ],
      "execution_count": null,
      "outputs": [
        {
          "output_type": "stream",
          "text": [
            " * sqlite://\n",
            "Done.\n",
            "Done.\n"
          ],
          "name": "stdout"
        },
        {
          "output_type": "execute_result",
          "data": {
            "text/html": [
              "<table>\n",
              "    <tr>\n",
              "        <th>artist_id</th>\n",
              "        <th>artist_name</th>\n",
              "        <th>place_of_birth</th>\n",
              "        <th>STUDIO</th>\n",
              "    </tr>\n",
              "</table>"
            ],
            "text/plain": [
              "[]"
            ]
          },
          "metadata": {
            "tags": []
          },
          "execution_count": 96
        }
      ]
    },
    {
      "cell_type": "code",
      "metadata": {
        "id": "FOWSIAvGZpE-"
      },
      "source": [
        "# Example 3\n",
        "# The data type text accepts upto 2,147,483,647 characters\n",
        "# The data type float accepts floating point numbers i.e 183.3 as shown\n",
        "#\n",
        "%%sql\n",
        "CREATE TABLE IF NOT EXISTS Players (\n",
        "    id int,\n",
        "    name text,\n",
        "    age integer,\n",
        "    height float);\n",
        "\n",
        "SELECT * from Players;"
      ],
      "execution_count": null,
      "outputs": []
    },
    {
      "cell_type": "markdown",
      "metadata": {
        "id": "LMP7zZY2dGuV"
      },
      "source": [
        "### <font color=\"green\"> 1.4 Challenges</font>"
      ]
    },
    {
      "cell_type": "code",
      "metadata": {
        "id": "8g9IjuQDdKP5",
        "outputId": "41b7e2d4-c90a-4bf2-d8ff-94e82c85773d",
        "colab": {
          "base_uri": "https://localhost:8080/",
          "height": 91
        }
      },
      "source": [
        "# Challenge 1\n",
        "# Let's create a table customer with CustID with datatype Integer, LastName\n",
        "# with datatype character(25), FirstName with datatype Character(20)\n",
        "#\n",
        "%%sql\n",
        "CREATE TABLE IF NOT EXISTS CUSTOMER(\n",
        "    Cust_ID int,\n",
        "    Last_name varchar(25),\n",
        "    Fisrt_name varchar(20)\n",
        " );\n",
        "SELECT * from CUSTOMER;"
      ],
      "execution_count": null,
      "outputs": [
        {
          "output_type": "stream",
          "text": [
            " * sqlite://\n",
            "Done.\n",
            "Done.\n"
          ],
          "name": "stdout"
        },
        {
          "output_type": "execute_result",
          "data": {
            "text/html": [
              "<table>\n",
              "    <tr>\n",
              "        <th>Cust_ID</th>\n",
              "        <th>Lastname</th>\n",
              "        <th>Fisrtname</th>\n",
              "    </tr>\n",
              "</table>"
            ],
            "text/plain": [
              "[]"
            ]
          },
          "metadata": {
            "tags": []
          },
          "execution_count": 37
        }
      ]
    },
    {
      "cell_type": "code",
      "metadata": {
        "id": "mhbYzTUqgcT6",
        "outputId": "6e4ab3e9-5d69-4205-ac5a-5a6c48d1b705",
        "colab": {
          "base_uri": "https://localhost:8080/",
          "height": 91
        }
      },
      "source": [
        "# Challenge 3\n",
        "# Create a table called sales that stores sales ID, customer ID, name, and address information.\n",
        "# using also the appropriate data types\n",
        "#\n",
        "%%sql\n",
        "CREATE TABLE IF NOT EXISTS SALES(\n",
        "    SalesID varchar,\n",
        "    CustomerID int,\n",
        "    Name text,\n",
        "    Address varchar\n",
        ");\n",
        "SELECT * from SALES;"
      ],
      "execution_count": null,
      "outputs": [
        {
          "output_type": "stream",
          "text": [
            " * sqlite://\n",
            "Done.\n",
            "Done.\n"
          ],
          "name": "stdout"
        },
        {
          "output_type": "execute_result",
          "data": {
            "text/html": [
              "<table>\n",
              "    <tr>\n",
              "        <th>SalesID</th>\n",
              "        <th>CustomerID</th>\n",
              "        <th>Name</th>\n",
              "        <th>Address</th>\n",
              "    </tr>\n",
              "</table>"
            ],
            "text/plain": [
              "[]"
            ]
          },
          "metadata": {
            "tags": []
          },
          "execution_count": 42
        }
      ]
    },
    {
      "cell_type": "code",
      "metadata": {
        "id": "dusTkcdWuv3E",
        "outputId": "5a06c1f4-ae58-475b-a0ce-39d705c1c6e7",
        "colab": {
          "base_uri": "https://localhost:8080/",
          "height": 91
        }
      },
      "source": [
        "# Challenge 4\n",
        "# Create a table called employees that stores employee number, employee name,\n",
        "# department, and salary information using appropriate data types\n",
        "#\n",
        "%%sql\n",
        "CREATE TABLE IF NOT EXISTS EMPLOYEES(\n",
        "    Employee number int,\n",
        "    Employeename text,\n",
        "    Department text,\n",
        "    salary varchar\n",
        "\n",
        ");\n",
        "SELECT* from EMPLOYEES;"
      ],
      "execution_count": null,
      "outputs": [
        {
          "output_type": "stream",
          "text": [
            " * sqlite://\n",
            "Done.\n",
            "Done.\n"
          ],
          "name": "stdout"
        },
        {
          "output_type": "execute_result",
          "data": {
            "text/html": [
              "<table>\n",
              "    <tr>\n",
              "        <th>Employee</th>\n",
              "        <th>Employeename</th>\n",
              "        <th>Department</th>\n",
              "        <th>salary</th>\n",
              "    </tr>\n",
              "</table>"
            ],
            "text/plain": [
              "[]"
            ]
          },
          "metadata": {
            "tags": []
          },
          "execution_count": 43
        }
      ]
    },
    {
      "cell_type": "markdown",
      "metadata": {
        "id": "ASFyzyDc9hth"
      },
      "source": [
        "## 1.5 Specifying Column Default Values"
      ]
    },
    {
      "cell_type": "code",
      "metadata": {
        "id": "mkNyTl37gfeM",
        "outputId": "3d0014ac-cb67-465e-8e62-67c3a1d27c66",
        "colab": {
          "base_uri": "https://localhost:8080/",
          "height": 68
        }
      },
      "source": [
        "# Example 1\n",
        "# To specify column default values, let's define a table named artists\n",
        "# which contains three columns artist_id, artist_name and place_of_birth.\n",
        "# - artist_id will be of the type int\n",
        "# - artist_name of the type varchar(60)\n",
        "# - place_of_birth varchar(60) with default 'Unknown'.\n",
        "# NB: Changing the case of our data type definition will not have any effect.\n",
        "#\n",
        "%%sql\n",
        "CREATE TABLE Artists (\n",
        "    artist_id INT,\n",
        "    artist_name VARCHAR(60),\n",
        "    place_of_birth VARCHAR(60)\n",
        ");"
      ],
      "execution_count": null,
      "outputs": [
        {
          "output_type": "stream",
          "text": [
            " * sqlite://\n",
            "Done.\n"
          ],
          "name": "stdout"
        },
        {
          "output_type": "execute_result",
          "data": {
            "text/plain": [
              "[]"
            ]
          },
          "metadata": {
            "tags": []
          },
          "execution_count": 9
        }
      ]
    },
    {
      "cell_type": "code",
      "metadata": {
        "id": "_ut68z0BgfW9",
        "outputId": "d0d84a23-590f-4df6-da7b-6f9d5be1e2fe",
        "colab": {
          "base_uri": "https://localhost:8080/",
          "height": 68
        }
      },
      "source": [
        "# Example 2\n",
        "# To specify default values for the fields in a new table TeamMembers,\n",
        "# We do the following as shown below.\n",
        "#\n",
        "%%sql\n",
        "CREATE TABLE IF NOT EXISTS TeamMembers (\n",
        "    id INTEGER PRIMARY KEY,\n",
        "    name TEXT,\n",
        "    age INTEGER DEFAULT 'Unknown',\n",
        "    height REAL);"
      ],
      "execution_count": null,
      "outputs": [
        {
          "output_type": "stream",
          "text": [
            " * sqlite://\n",
            "Done.\n"
          ],
          "name": "stdout"
        },
        {
          "output_type": "execute_result",
          "data": {
            "text/plain": [
              "[]"
            ]
          },
          "metadata": {
            "tags": []
          },
          "execution_count": 77
        }
      ]
    },
    {
      "cell_type": "markdown",
      "metadata": {
        "id": "Xr_iw9O1gynX"
      },
      "source": [
        "### <font color=\"green\"> 1.5 Challenges</font>"
      ]
    },
    {
      "cell_type": "code",
      "metadata": {
        "id": "H0X577pGgxuY",
        "outputId": "8608571e-eccc-41d9-eb69-4eca236b33b0",
        "colab": {
          "base_uri": "https://localhost:8080/",
          "height": 68
        }
      },
      "source": [
        "# Challenge 1\n",
        "# Let's create a new table called latest_players with similar fields to\n",
        "# the already created Players table but specify the default value to unknown\n",
        "#\n",
        "%%sql\n",
        "CREATE TABLE IF NOT EXISTS latest_players(\n",
        "    id INTEGER PRIMARY KEY,\n",
        "    name TEXT,\n",
        "    age INTEGER DEFAULT 'Unknown',\n",
        "    height REAL);\n",
        "\n"
      ],
      "execution_count": null,
      "outputs": [
        {
          "output_type": "stream",
          "text": [
            " * sqlite://\n",
            "Done.\n"
          ],
          "name": "stdout"
        },
        {
          "output_type": "execute_result",
          "data": {
            "text/plain": [
              "[]"
            ]
          },
          "metadata": {
            "tags": []
          },
          "execution_count": 47
        }
      ]
    },
    {
      "cell_type": "code",
      "metadata": {
        "id": "1LEzaO5ggpCt",
        "outputId": "36d21156-dcae-4614-9173-143a64a26e8e",
        "colab": {
          "base_uri": "https://localhost:8080/",
          "height": 68
        }
      },
      "source": [
        "# Challenge 2\n",
        "# Let's create a new table called restaurants with the fields\n",
        "# - name: string\n",
        "# - description: text\n",
        "# - address: string, default value is unknown\n",
        "# - user_id: integer\n",
        "# - last_orders_at: date\n",
        "# We can perform data type external research if need be\n",
        "#\n",
        "%%sql\n",
        "CREATE TABLE IF NOT EXISTS restaurants(\n",
        "    name text,\n",
        "    description text,\n",
        "    address varchar default\"Unknown\",\n",
        "    user_id int,\n",
        "    last_orders_at date\n",
        ");\n",
        "\n"
      ],
      "execution_count": null,
      "outputs": [
        {
          "output_type": "stream",
          "text": [
            " * sqlite://\n",
            "Done.\n"
          ],
          "name": "stdout"
        },
        {
          "output_type": "execute_result",
          "data": {
            "text/plain": [
              "[]"
            ]
          },
          "metadata": {
            "tags": []
          },
          "execution_count": 58
        }
      ]
    },
    {
      "cell_type": "markdown",
      "metadata": {
        "id": "fbqK98Ve9qUw"
      },
      "source": [
        "## 1.6 Altering SQL Tables"
      ]
    },
    {
      "cell_type": "code",
      "metadata": {
        "id": "hX5YD-_dhEra"
      },
      "source": [
        "# Example 1: Adding a Column\n",
        "# To add a column Gender to the Classmates table, we do the following,\n",
        "# then preview the table to see the changes\n",
        "#\n",
        "%%sql\n",
        "ALTER TABLE Classmates ADD Gender;\n",
        "\n",
        "SELECT * FROM Classmates;"
      ],
      "execution_count": null,
      "outputs": []
    },
    {
      "cell_type": "code",
      "metadata": {
        "id": "IGZSdFj2hGbP"
      },
      "source": [
        "# Example 2: Deleting a Column\n",
        "# To delete a column Phone in a table above we do the following,\n",
        "# Then fetch records from the table to confirm the changes\n",
        "#\n",
        "%%sql\n",
        "ALTER TABLE Classmates drop column Residence;\n"
      ],
      "execution_count": null,
      "outputs": []
    },
    {
      "cell_type": "code",
      "metadata": {
        "id": "sHLkllxhhH3v"
      },
      "source": [
        "# Example 3\n",
        "# We can change the name of the Classmates table to Schoolmates by doing the following,\n",
        "# Then fetching the records from the table to confirm the changes\n",
        "#\n",
        "%%sql\n",
        "ALTER TABLE Classmates RENAME TO Schoolmates;\n",
        "\n"
      ],
      "execution_count": null,
      "outputs": []
    },
    {
      "cell_type": "markdown",
      "metadata": {
        "id": "f20THWRqhJC-"
      },
      "source": [
        "### <font color=\"green\"> 1.6 Challenges</font>"
      ]
    },
    {
      "cell_type": "code",
      "metadata": {
        "id": "6Nrsden-hJ7u",
        "outputId": "c7219a51-ccc1-412f-9c4e-f7c26c221d42",
        "colab": {
          "base_uri": "https://localhost:8080/",
          "height": 91
        }
      },
      "source": [
        "# Challenge 1\n",
        "# We can add a column DOB with the data type DATE to the TeamMembers table by;\n",
        "# Hint: The data type comes after the column name\n",
        "%%sql\n",
        "ALTER TABLE TeamMembers ADD DOB date;\n",
        "\n",
        "SELECT *FROM TeamMembers;\n"
      ],
      "execution_count": null,
      "outputs": [
        {
          "output_type": "stream",
          "text": [
            " * sqlite://\n",
            "Done.\n",
            "Done.\n"
          ],
          "name": "stdout"
        },
        {
          "output_type": "execute_result",
          "data": {
            "text/html": [
              "<table>\n",
              "    <tr>\n",
              "        <th>id</th>\n",
              "        <th>name</th>\n",
              "        <th>age</th>\n",
              "        <th>height</th>\n",
              "        <th>DOB</th>\n",
              "    </tr>\n",
              "</table>"
            ],
            "text/plain": [
              "[]"
            ]
          },
          "metadata": {
            "tags": []
          },
          "execution_count": 78
        }
      ]
    },
    {
      "cell_type": "code",
      "metadata": {
        "id": "2hwkJkSNlIyd"
      },
      "source": [
        "# Example 4: Confirmation\n",
        "# Let's check our data type\n",
        "%%sql\n",
        "PRAGMA table_info(TeamMembers);\n"
      ],
      "execution_count": null,
      "outputs": []
    },
    {
      "cell_type": "code",
      "metadata": {
        "id": "iLNLtWBFhLCS",
        "outputId": "90e12b12-dcb4-48a0-f0dc-3baf053973a8",
        "colab": {
          "base_uri": "https://localhost:8080/",
          "height": 68
        }
      },
      "source": [
        "# Challenge 2\n",
        "# Let's now add a column STUDIO with the data type TEXT to the Artists table\n",
        "#\n",
        "%%sql\n",
        "ALTER TABLE Artists ADD STUDIO TEXT;\n"
      ],
      "execution_count": null,
      "outputs": [
        {
          "output_type": "stream",
          "text": [
            " * sqlite://\n",
            "Done.\n"
          ],
          "name": "stdout"
        },
        {
          "output_type": "execute_result",
          "data": {
            "text/plain": [
              "[]"
            ]
          },
          "metadata": {
            "tags": []
          },
          "execution_count": 81
        }
      ]
    },
    {
      "cell_type": "code",
      "metadata": {
        "id": "16L-Ex_ehKzt",
        "outputId": "8f0a145a-b4cc-41ec-b097-0003eb8cacae",
        "colab": {
          "base_uri": "https://localhost:8080/",
          "height": 68
        }
      },
      "source": [
        "# Challenge 3\n",
        "# We then rename the table Artists to MusicArtists\n",
        "#\n",
        "%%sql\n",
        "ALTER TABLE Artists RENAME TO MusicArtists;"
      ],
      "execution_count": null,
      "outputs": [
        {
          "output_type": "stream",
          "text": [
            " * sqlite://\n",
            "Done.\n"
          ],
          "name": "stdout"
        },
        {
          "output_type": "execute_result",
          "data": {
            "text/plain": [
              "[]"
            ]
          },
          "metadata": {
            "tags": []
          },
          "execution_count": 10
        }
      ]
    },
    {
      "cell_type": "markdown",
      "metadata": {
        "id": "N5323tiC9u5B"
      },
      "source": [
        "## 1.7 Dropping SQL Tables"
      ]
    },
    {
      "cell_type": "markdown",
      "metadata": {
        "id": "Lyy1XQCy_rIm"
      },
      "source": [
        "### 1.71 Truncating a Table\n"
      ]
    },
    {
      "cell_type": "code",
      "metadata": {
        "id": "EF5WdMH1hj-8",
        "outputId": "1ebcfc09-8c54-47eb-9866-f8a98b36d6c8",
        "colab": {
          "base_uri": "https://localhost:8080/",
          "height": 130
        }
      },
      "source": [
        "# Example 1\n",
        "# We may have two options while thinking about dropping (deleting) database tables.\n",
        "# These are truncating or dropping.\n",
        "# We can use the TRUNCATE TABLE statement to delete the data inside\n",
        "# our table as shown below. Do note that this command retains the table itself.\n",
        "# We will get to confirm the effect of using this command later when we get\n",
        "# to insert data to the table.\n",
        "#\n",
        "TRUNCATE TABLE Classmates;"
      ],
      "execution_count": null,
      "outputs": [
        {
          "output_type": "error",
          "ename": "SyntaxError",
          "evalue": "ignored",
          "traceback": [
            "\u001b[0;36m  File \u001b[0;32m\"<ipython-input-98-7814f9e319a5>\"\u001b[0;36m, line \u001b[0;32m1\u001b[0m\n\u001b[0;31m    TRUNCATE TABLE Classmates;\u001b[0m\n\u001b[0m                 ^\u001b[0m\n\u001b[0;31mSyntaxError\u001b[0m\u001b[0;31m:\u001b[0m invalid syntax\n"
          ]
        }
      ]
    },
    {
      "cell_type": "markdown",
      "metadata": {
        "id": "018guVdKDwnu"
      },
      "source": [
        "### 1.72 Dropping a Table"
      ]
    },
    {
      "cell_type": "code",
      "metadata": {
        "id": "IBP2xlN4Dz8H",
        "outputId": "0cce34a2-90c2-4f9a-8c3b-a8f5922e6584",
        "colab": {
          "base_uri": "https://localhost:8080/",
          "height": 34
        }
      },
      "source": [
        "# Example 1\n",
        "# We can drop our table by using the DROP TABLE statement as shown below\n",
        "#\n",
        "%%sql DROP TABLE Classmates;"
      ],
      "execution_count": null,
      "outputs": [
        {
          "output_type": "stream",
          "text": [
            "UsageError: %%sql is a cell magic, but the cell body is empty. Did you mean the line magic %sql (single %)?\n"
          ],
          "name": "stderr"
        }
      ]
    },
    {
      "cell_type": "markdown",
      "metadata": {
        "id": "hK3Aff9bhkkE"
      },
      "source": [
        "### <font color=\"green\"> 1.7 Challenges</font>"
      ]
    },
    {
      "cell_type": "code",
      "metadata": {
        "id": "OhTHowBAhmF_",
        "cellView": "both",
        "outputId": "61ea7f0a-bdbd-4305-aff0-136377193ccf",
        "colab": {
          "base_uri": "https://localhost:8080/",
          "height": 68
        }
      },
      "source": [
        "# Challenge 1\n",
        "# Lets drop the Players table from our database\n",
        "#\n",
        "%%sql\n",
        "DROP TABLE latest_players;"
      ],
      "execution_count": null,
      "outputs": [
        {
          "output_type": "stream",
          "text": [
            " * sqlite://\n",
            "Done.\n"
          ],
          "name": "stdout"
        },
        {
          "output_type": "execute_result",
          "data": {
            "text/plain": [
              "[]"
            ]
          },
          "metadata": {
            "tags": []
          },
          "execution_count": 71
        }
      ]
    },
    {
      "cell_type": "code",
      "metadata": {
        "id": "TupkeQYohmc9",
        "outputId": "003cc609-750e-424c-a623-116367b68a47",
        "colab": {
          "base_uri": "https://localhost:8080/",
          "height": 68
        }
      },
      "source": [
        "# Challenge 2\n",
        "# Lets drop the Customers table from our database\n",
        "#\n",
        "%%sql\n",
        "DROP TABLE Customers;"
      ],
      "execution_count": null,
      "outputs": [
        {
          "output_type": "stream",
          "text": [
            " * sqlite://\n",
            "Done.\n"
          ],
          "name": "stdout"
        },
        {
          "output_type": "execute_result",
          "data": {
            "text/plain": [
              "[]"
            ]
          },
          "metadata": {
            "tags": []
          },
          "execution_count": 95
        }
      ]
    },
    {
      "cell_type": "code",
      "metadata": {
        "id": "5JA8Kr56hmPr",
        "outputId": "4699121f-42b5-4e13-b300-c9f319d8db27",
        "colab": {
          "base_uri": "https://localhost:8080/",
          "height": 68
        }
      },
      "source": [
        "# Challenge 3\n",
        "# And finally truncate and drop our Artists table from our database\n",
        "#\n",
        "%%sql\n",
        "DELETE from  MusicArtists;"
      ],
      "execution_count": null,
      "outputs": [
        {
          "output_type": "stream",
          "text": [
            " * sqlite://\n",
            "0 rows affected.\n"
          ],
          "name": "stdout"
        },
        {
          "output_type": "execute_result",
          "data": {
            "text/plain": [
              "[]"
            ]
          },
          "metadata": {
            "tags": []
          },
          "execution_count": 12
        }
      ]
    }
  ]
}