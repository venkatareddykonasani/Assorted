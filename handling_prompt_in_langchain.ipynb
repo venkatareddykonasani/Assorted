{
  "nbformat": 4,
  "nbformat_minor": 0,
  "metadata": {
    "colab": {
      "provenance": [],
      "authorship_tag": "ABX9TyOsKKWst9JfnaRZPA5rg6VV",
      "include_colab_link": true
    },
    "kernelspec": {
      "name": "python3",
      "display_name": "Python 3"
    },
    "language_info": {
      "name": "python"
    }
  },
  "cells": [
    {
      "cell_type": "markdown",
      "metadata": {
        "id": "view-in-github",
        "colab_type": "text"
      },
      "source": [
        "<a href=\"https://colab.research.google.com/github/venkatareddykonasani/Assorted/blob/main/handling_prompt_in_langchain.ipynb\" target=\"_parent\"><img src=\"https://colab.research.google.com/assets/colab-badge.svg\" alt=\"Open In Colab\"/></a>"
      ]
    },
    {
      "cell_type": "code",
      "execution_count": null,
      "metadata": {
        "id": "YsE0vynUoQ47"
      },
      "outputs": [],
      "source": [
        "!pip install langchainhub\n",
        "\n",
        "from langchain import hub\n",
        "base_prompt = hub.pull(\"langchain-ai/openai-functions-template\")\n",
        "print(base_prompt)\n",
        "\n"
      ]
    },
    {
      "cell_type": "code",
      "source": [
        "instructions=\"\"\"\n",
        "You are an agent designed to interact with a SQL database.\n",
        "INSERT, UPDATE, DELETE, DROP etc. statements are not allowed.\n",
        "CREATE TABLE statements are not allowed.\n",
        "DROP TABLE statements are not allowed.\n",
        "INSERT INTO statements are not allowed.\n",
        "Never make any changes to the database.\n",
        "Avoid any actions that could potentially compromise the integrity or security of the database.\n",
        "Ensure that all interactions with the database are read-only and non-destructive.\n",
        "If the question does not seem related to the database, just return I do not know as the answer.\n",
        "\"\"\"\n",
        "prompt = base_prompt.partial(instructions=instructions)\n",
        "print(prompt)\n"
      ],
      "metadata": {
        "id": "rZHraFa3p5c_"
      },
      "execution_count": null,
      "outputs": []
    },
    {
      "cell_type": "code",
      "source": [
        "agent_executor.run(\"Drop the table genres from the database \")"
      ],
      "metadata": {
        "id": "qwM9fH16p63m"
      },
      "execution_count": null,
      "outputs": []
    }
  ]
}